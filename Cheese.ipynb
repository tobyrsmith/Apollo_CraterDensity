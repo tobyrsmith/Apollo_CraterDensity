{
 "metadata": {
  "name": "",
  "signature": "sha256:ae98705f6eb4b78433f75ee26e459896e23d5bc2b9c1ba9ca05ed99074c85fbb"
 },
 "nbformat": 3,
 "nbformat_minor": 0,
 "worksheets": [
  {
   "cells": [
    {
     "cell_type": "markdown",
     "metadata": {},
     "source": [
      "## Lunar Cheese"
     ]
    },
    {
     "cell_type": "code",
     "collapsed": false,
     "input": [
      "import matplotlib\n",
      "reload(matplotlib)"
     ],
     "language": "python",
     "metadata": {},
     "outputs": [
      {
       "metadata": {},
       "output_type": "pyout",
       "prompt_number": 103,
       "text": [
        "<module 'matplotlib' from '/home/toby/anaconda/lib/python2.7/site-packages/matplotlib/__init__.pyc'>"
       ]
      }
     ],
     "prompt_number": 103
    },
    {
     "cell_type": "code",
     "collapsed": false,
     "input": [
      "%matplotlib inline\n",
      "\n",
      "import numpy as np\n",
      "import matplotlib.pyplot as plt\n",
      "import pandas as pd"
     ],
     "language": "python",
     "metadata": {},
     "outputs": [],
     "prompt_number": 2
    },
    {
     "cell_type": "code",
     "collapsed": false,
     "input": [
      "T = pd.read_csv('cheese.csv')\n",
      "print T[0:4]"
     ],
     "language": "python",
     "metadata": {},
     "outputs": [
      {
       "output_type": "stream",
       "stream": "stdout",
       "text": [
        "              Name     V Type\n",
        "0  Sapsego (SWISS)  2.12    c\n",
        "1         Dolomite  5.60    s\n",
        "2           Schist  5.10    m\n",
        "3          Granite  5.90    i\n"
       ]
      }
     ],
     "prompt_number": 7
    },
    {
     "cell_type": "code",
     "collapsed": false,
     "input": [
      "vc = T[T['Type']=='c'].sort(['V'],ascending=False)['V']\n",
      "vm = T[T['Type']=='m'].sort(['V'],ascending=False)['V']\n",
      "vs = T[T['Type']=='s'].sort(['V'],ascending=False)['V']\n",
      "vM = T[T['Type']=='M'].sort(['V'],ascending=False)['V']\n",
      "vl = T[T['Type']=='l'].sort(['V'],ascending=False)['V']\n",
      "vi = T[T['Type']=='i'].sort(['V'],ascending=False)['V']\n",
      "\n",
      "print vi"
     ],
     "language": "python",
     "metadata": {},
     "outputs": [
      {
       "output_type": "stream",
       "stream": "stdout",
       "text": [
        "33    6.80\n",
        "37    6.50\n",
        "18    6.40\n",
        "40    6.33\n",
        "3     5.90\n",
        "28    5.80\n",
        "13    5.78\n",
        "8     5.70\n",
        "23    5.23\n",
        "Name: V, dtype: float64\n"
       ]
      }
     ],
     "prompt_number": 86
    },
    {
     "cell_type": "code",
     "collapsed": false,
     "input": [
      "tfont = {\n",
      "    'family' : 'DejaVu Serif',\n",
      "    'weight' : 'bold',\n",
      "    'size' : 14}\n",
      "\n",
      "plt.rc('font', **tfont)\n",
      "plt.rc(\"axes\", linewidth=3.0)\n",
      "plt.rc('axes', grid=False)"
     ],
     "language": "python",
     "metadata": {},
     "outputs": [],
     "prompt_number": 64
    },
    {
     "cell_type": "code",
     "collapsed": false,
     "input": [
      "fig, ax = plt.subplots(1,1)\n",
      "fig.set_size_inches(10,7)\n",
      "\n",
      "ax.set_yticklabels([])\n",
      "\n",
      "ax.spines['top'].set_visible(False)\n",
      "ax.spines['right'].set_visible(False)\n",
      "ax.get_xaxis().tick_bottom()\n",
      "ax.get_yaxis().tick_left()\n",
      "\n",
      "ax.set_xlim(0,12)\n",
      "ax.set_ylim(0,50)\n",
      "\n",
      "ax.set_xlabel('Seismic Velocity in Sample [km/s]')\n",
      "\n",
      "#Cheese\n",
      "posc = 40 + np.arange(len(vc))\n",
      "ax.barh(posc,vc,color = 'g', height=0.99)\n",
      "\n",
      "#Lunar\n",
      "posl = 37 + np.arange(len(vl))\n",
      "ax.barh(posl,vl,color = 'k', height=0.99)\n",
      "\n",
      "#Sedimentary\n",
      "poss = 29 + np.arange(len(vs))\n",
      "ax.barh(poss,vs,color = 'b', height=0.99)\n",
      "\n",
      "#Metamorphic\n",
      "posm = 20 + np.arange(len(vm))\n",
      "ax.barh(posm,vm,color = 'c', height=0.99)\n",
      "\n",
      "#Igneous\n",
      "posi = 10 + np.arange(len(vi))\n",
      "ax.barh(posi,vi,color = 'r', height=0.99)\n",
      "\n",
      "#Mineral\n",
      "posM = 0 + np.arange(len(vM))\n",
      "ax.barh(posM,vM,color = 'm', height=0.99);"
     ],
     "language": "python",
     "metadata": {},
     "outputs": [
      {
       "metadata": {},
       "output_type": "display_data",
       "png": "[encoded data removed]",
       "text": [
        "<matplotlib.figure.Figure at 0xa7fed94c>"
       ]
      }
     ],
     "prompt_number": 104
    },
    {
     "cell_type": "code",
     "collapsed": false,
     "input": [
      "fig.savefig('Cheese.png', dpi=300, bbox_inches='tight')"
     ],
     "language": "python",
     "metadata": {},
     "outputs": [],
     "prompt_number": 106
    },
    {
     "cell_type": "code",
     "collapsed": false,
     "input": [],
     "language": "python",
     "metadata": {},
     "outputs": []
    }
   ],
   "metadata": {}
  }
 ]
}